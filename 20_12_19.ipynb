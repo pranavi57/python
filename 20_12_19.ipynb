{
  "nbformat": 4,
  "nbformat_minor": 0,
  "metadata": {
    "colab": {
      "name": "20-12-19.ipynb",
      "provenance": [],
      "collapsed_sections": []
    },
    "kernelspec": {
      "name": "python3",
      "display_name": "Python 3"
    }
  },
  "cells": [
    {
      "cell_type": "code",
      "metadata": {
        "id": "UGHenW8hdK9c",
        "colab_type": "code",
        "colab": {}
      },
      "source": [
        "#include<stdio.h>\n",
        "void main()\n",
        "{\n",
        "int n,i,c=0;\n",
        "scanf(\"%d\",&n);\n",
        "for(i=2;i<=n/2;i++)\n",
        "{\n",
        "        if(n%i==0)\n",
        "        c++;\n",
        "}\n",
        "if(c==0)\n",
        "printf(\"prime number\");\n",
        "else\n",
        "printf(\"not\");\n",
        "}\n"
      ],
      "execution_count": 0,
      "outputs": []
    },
    {
      "cell_type": "code",
      "metadata": {
        "id": "M3b_5Y-2fUxi",
        "colab_type": "code",
        "colab": {}
      },
      "source": [
        "# prime no range from 1 to 100\n",
        "#include<stdio.h>\n",
        "void main()\n",
        "{\n",
        "int n,i,c,range;\n",
        "scanf(\"%d\",&range);\n",
        "for(n=2;n<=range;n++)\n",
        "{\n",
        "    c=0;\n",
        "    for(i=2;i<=n/2;i++)\n",
        "{\n",
        " if(n%i==0)\n",
        " c++;\n",
        "}\n",
        "if(c==0)\n",
        " printf(\" %d\",n);\n",
        "}\n",
        "}"
      ],
      "execution_count": 0,
      "outputs": []
    },
    {
      "cell_type": "code",
      "metadata": {
        "id": "EGrqnZ6tfVG2",
        "colab_type": "code",
        "colab": {}
      },
      "source": [
        "# sum of prime no range from 1 to 100\n",
        "#include<stdio.h>\n",
        "void main()\n",
        "{\n",
        "int n,i,c,s,range;\n",
        "scanf(\"%d\",&range);\n",
        "for(n=2;n<=range;n++)\n",
        "{\n",
        "    c=0;\n",
        "    for(i=2;i<=n/2;i++)\n",
        "     {\n",
        "    if(n%i==0)\n",
        "     c++;\n",
        "}\n",
        "if(c==0)\n",
        "{\n",
        "    s=s+n;\n",
        "printf(\" %d\",n);\n",
        "}\n",
        "}\n",
        "printf(\"\\n%d\",s);\n",
        "}"
      ],
      "execution_count": 0,
      "outputs": []
    },
    {
      "cell_type": "code",
      "metadata": {
        "id": "e5R1S-CyfVRG",
        "colab_type": "code",
        "colab": {}
      },
      "source": [
        "# sum of prime no range from 500 to 1000\n",
        "#include<stdio.h>\n",
        "void main()\n",
        "{\n",
        "int n,i,c,s,range;\n",
        "scanf(\"%d\",&range);\n",
        "for(n=2;n<=range;n++)\n",
        "{\n",
        "    c=0;\n",
        "    for(i=2;i<=n/2;i++)\n",
        "     {\n",
        "    if(n%i==0)\n",
        "     c++;\n",
        "}\n",
        "if(c==0)\n",
        "{\n",
        "    s=s+n;\n",
        "printf(\" %d\",n);\n",
        "}\n",
        "}\n",
        "printf(\"\\n%d\",s);\n",
        "}"
      ],
      "execution_count": 0,
      "outputs": []
    },
    {
      "cell_type": "code",
      "metadata": {
        "id": "V6xrHcsOfVY3",
        "colab_type": "code",
        "colab": {}
      },
      "source": [
        "#include<stdio.h>\n",
        "void main()\n",
        "{\n",
        "int n,i,c,s=0,count=0,range,k;\n",
        "scanf(\"%d\",&k);\n",
        "for(n=2;count<k;n++)\n",
        "{\n",
        "    c=0;\n",
        "    for(i=2;i<=n/2;i++)\n",
        "     {\n",
        "    if(n%i==0)\n",
        "     c++;\n",
        "}\n",
        "if(c==0)\n",
        "{\n",
        "    count++;\n",
        "}\n",
        "}\n",
        "printf(\"%d=%d\\t\",count,n-1);\n",
        "}"
      ],
      "execution_count": 0,
      "outputs": []
    },
    {
      "cell_type": "code",
      "metadata": {
        "id": "49vxsoGzfVhb",
        "colab_type": "code",
        "colab": {}
      },
      "source": [
        "# fibanoci series of particular digit\n",
        "#include<stdio.h>\n",
        "void main()\n",
        "{\n",
        "int n,f1=0,f2=1,f3,i,c;\n",
        "scanf(\"%d\",&n);\n",
        "if(n==1)\n",
        "c=printf(\"%d\",f1);\n",
        "else\n",
        "{\n",
        " for(i=3;i<=n;i++)\n",
        "{\n",
        " f3=f2+f1;\n",
        " f1=f2;\n",
        " f2=f3;\n",
        "}\n",
        "c=printf(\"%d\",f2);\n",
        "}\n",
        "printf(\"\\n%d\",c);\n",
        "}\n"
      ],
      "execution_count": 0,
      "outputs": []
    },
    {
      "cell_type": "code",
      "metadata": {
        "id": "h1fhUvzvsMXN",
        "colab_type": "code",
        "colab": {}
      },
      "source": [
        "#fibanoci series\n",
        "#include<stdio.h>\n",
        "void main()\n",
        "{\n",
        "int n,f1=0,f2=1,f3,i;\n",
        "scanf(\"%d\",&n);\n",
        "printf(\"fibanoci series\");\n",
        "for(i=0;i<=n;i++)\n",
        "{\n",
        "   printf(\" %d\",f1);\n",
        "   f3=f2+f1;\n",
        "   f1=f2;\n",
        " f2=f3;\n",
        "}\n",
        "return 0;\n",
        "}\n",
        "\n",
        "\n"
      ],
      "execution_count": 0,
      "outputs": []
    },
    {
      "cell_type": "code",
      "metadata": {
        "id": "WAcdSlRJsMio",
        "colab_type": "code",
        "colab": {}
      },
      "source": [
        "#include<stdio.h>\n",
        "void main()\n",
        "{\n",
        "  int i,j;\n",
        "  for(i=1;i<=5;i++)\n",
        "  {\n",
        "    for(j=1;j<=i;j++)\n",
        "    {\n",
        "    printf(\"%c\",j+64);\n",
        "     }\n",
        "    printf(\"\\n\");\n",
        "  }\n",
        "  }\n",
        "\n",
        "\n"
      ],
      "execution_count": 0,
      "outputs": []
    },
    {
      "cell_type": "code",
      "metadata": {
        "id": "Slb2zVLBsMnK",
        "colab_type": "code",
        "colab": {}
      },
      "source": [
        "#include<stdio.h>\n",
        "void main()\n",
        "{\n",
        "  int i,j;\n",
        "  for(i=1;i<=5;i++)\n",
        "  {\n",
        "    for(j=1;j<=i;j++)\n",
        "    {\n",
        "    printf(\"%d\",j);\n",
        "     }\n",
        "    printf(\"\\n\");\n",
        "  }\n",
        "  }\n",
        "\n",
        "\n"
      ],
      "execution_count": 0,
      "outputs": []
    },
    {
      "cell_type": "code",
      "metadata": {
        "id": "Xd3uJxbksMqN",
        "colab_type": "code",
        "colab": {}
      },
      "source": [
        "#include<stdio.h>\n",
        "void main()\n",
        "{\n",
        "  int i,j,k=1;\n",
        "  for(i=1;i<=5;i++)\n",
        "  {\n",
        "    for(j=1;j<=i;j++)\n",
        "    {\n",
        "    printf(\" %d\",k++);\n",
        "     }\n",
        "    printf(\"\\n\");\n",
        "  }\n",
        "  }\n",
        "\n"
      ],
      "execution_count": 0,
      "outputs": []
    },
    {
      "cell_type": "code",
      "metadata": {
        "id": "2JkyYeNMsMtQ",
        "colab_type": "code",
        "colab": {}
      },
      "source": [
        "#include<stdio.h>\n",
        "void main()\n",
        "{\n",
        "  int i,j;\n",
        "  for(i=1;i<=5;i++)\n",
        "  {\n",
        "    for(j=1;j<=5;j++)\n",
        "    {\n",
        "     if(i==1||i==5||j==1||j==5)\n",
        "     printf(\"*\");\n",
        "     else\n",
        "     printf(\" \");\n",
        "    }\n",
        "    printf(\"\\n\");\n",
        "  }\n",
        "}\n",
        "\n",
        "\n"
      ],
      "execution_count": 0,
      "outputs": []
    },
    {
      "cell_type": "code",
      "metadata": {
        "id": "NfXwkldifVo_",
        "colab_type": "code",
        "colab": {}
      },
      "source": [
        ""
      ],
      "execution_count": 0,
      "outputs": []
    },
    {
      "cell_type": "code",
      "metadata": {
        "id": "JJzlXDLHfVw2",
        "colab_type": "code",
        "colab": {}
      },
      "source": [
        ""
      ],
      "execution_count": 0,
      "outputs": []
    },
    {
      "cell_type": "code",
      "metadata": {
        "id": "j_lzg0knfV7X",
        "colab_type": "code",
        "colab": {}
      },
      "source": [
        ""
      ],
      "execution_count": 0,
      "outputs": []
    },
    {
      "cell_type": "code",
      "metadata": {
        "id": "SNuRxKZ-dX4S",
        "colab_type": "code",
        "colab": {}
      },
      "source": [
        ""
      ],
      "execution_count": 0,
      "outputs": []
    }
  ]
}