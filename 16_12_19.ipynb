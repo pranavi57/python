{
  "nbformat": 4,
  "nbformat_minor": 0,
  "metadata": {
    "colab": {
      "name": "16-12-19.ipynb",
      "provenance": [],
      "collapsed_sections": []
    },
    "kernelspec": {
      "name": "python3",
      "display_name": "Python 3"
    }
  },
  "cells": [
    {
      "cell_type": "markdown",
      "metadata": {
        "id": "lT7NaVzJ1xSl",
        "colab_type": "text"
      },
      "source": [
        "# Functional programming\n",
        " - simple\n",
        " - easy to understand\n",
        " - better reusability\n",
        " - lengthy program will be divided into sub groups\n",
        "\n"
      ]
    },
    {
      "cell_type": "markdown",
      "metadata": {
        "id": "lMTjzuox2mTq",
        "colab_type": "text"
      },
      "source": [
        "# syntax:\n",
        "  def name of the function(<parameters>):\n",
        "  \n",
        "   statements \n",
        "  \n",
        "  return\n",
        "\n"
      ]
    },
    {
      "cell_type": "code",
      "metadata": {
        "id": "iCf9Vz2d3SSV",
        "colab_type": "code",
        "colab": {
          "base_uri": "https://localhost:8080/",
          "height": 34
        },
        "outputId": "2aad3877-958d-484c-d93a-ec859996cbee"
      },
      "source": [
        "# input:1234\n",
        "#output:6(2+4)\n",
        "def evendigit(n):\n",
        "  s = 0\n",
        "  while n!=0:\n",
        "    r =n%10\n",
        "    if r %2 ==0:\n",
        "      s =s+r\n",
        "    n = n//10\n",
        "  return s\n",
        "evendigit(1234)\n"
      ],
      "execution_count": 9,
      "outputs": [
        {
          "output_type": "execute_result",
          "data": {
            "text/plain": [
              "6"
            ]
          },
          "metadata": {
            "tags": []
          },
          "execution_count": 9
        }
      ]
    },
    {
      "cell_type": "code",
      "metadata": {
        "id": "a-1X1Nwp4iMM",
        "colab_type": "code",
        "colab": {
          "base_uri": "https://localhost:8080/",
          "height": 34
        },
        "outputId": "1c2c70f5-5229-4a2c-8035-d6ad198d2dc7"
      },
      "source": [
        "# print largest number form given number\n",
        "# input : 19528\n",
        "# output : 9\n",
        "def largest(n):\n",
        "  temp = 0\n",
        "  while n!=0:\n",
        "    r=n%10\n",
        "    if r>temp:\n",
        "       temp=r\n",
        "    n=n//10\n",
        "  return temp\n",
        "largest(19528)\n"
      ],
      "execution_count": 14,
      "outputs": [
        {
          "output_type": "execute_result",
          "data": {
            "text/plain": [
              "9"
            ]
          },
          "metadata": {
            "tags": []
          },
          "execution_count": 14
        }
      ]
    },
    {
      "cell_type": "code",
      "metadata": {
        "id": "KU0Ei26N49d9",
        "colab_type": "code",
        "colab": {
          "base_uri": "https://localhost:8080/",
          "height": 34
        },
        "outputId": "1f74926e-07ac-459a-d381-c8aa13a1d7ab"
      },
      "source": [
        "# reverse of given number\n",
        "# input:123\n",
        "# output:321\n",
        "def reverse(n):\n",
        "   rev= 0\n",
        "   while n!=0:\n",
        "      r=n%10\n",
        "      rev=rev*10+r\n",
        "      n=n//10\n",
        "   return rev\n",
        "reverse(123)\n",
        "   "
      ],
      "execution_count": 20,
      "outputs": [
        {
          "output_type": "execute_result",
          "data": {
            "text/plain": [
              "321"
            ]
          },
          "metadata": {
            "tags": []
          },
          "execution_count": 20
        }
      ]
    },
    {
      "cell_type": "markdown",
      "metadata": {
        "id": "5s_1e9k5AlUm",
        "colab_type": "text"
      },
      "source": [
        "### for loop\n",
        "##### syntax\n",
        "for in range(start,stoip,step):\n",
        "   \n",
        "   >statement\n",
        "\n"
      ]
    },
    {
      "cell_type": "code",
      "metadata": {
        "id": "dQtRS3YjBE72",
        "colab_type": "code",
        "colab": {
          "base_uri": "https://localhost:8080/",
          "height": 34
        },
        "outputId": "bef0a452-dd8c-4fa6-a8e2-7e333d3cb20f"
      },
      "source": [
        "#print the numbers between two limits\n",
        "#input:11 25\n",
        "#output:11 12 13 ......25\n",
        "def printseries(ib,ul):\n",
        "    for i in range(ib,ul+1):\n",
        "        print(i,end=' ')\n",
        "    return\n",
        "printseries(11,25)\n"
      ],
      "execution_count": 21,
      "outputs": [
        {
          "output_type": "stream",
          "text": [
            "11 12 13 14 15 16 17 18 19 20 21 22 23 24 25 "
          ],
          "name": "stdout"
        }
      ]
    },
    {
      "cell_type": "code",
      "metadata": {
        "id": "e0o6rSwMCGru",
        "colab_type": "code",
        "colab": {}
      },
      "source": [
        ""
      ],
      "execution_count": 0,
      "outputs": []
    }
  ]
}