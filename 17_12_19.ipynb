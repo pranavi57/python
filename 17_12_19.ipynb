{
  "nbformat": 4,
  "nbformat_minor": 0,
  "metadata": {
    "colab": {
      "name": "17-12-19.ipynb",
      "provenance": []
    },
    "kernelspec": {
      "name": "python3",
      "display_name": "Python 3"
    }
  },
  "cells": [
    {
      "cell_type": "markdown",
      "metadata": {
        "id": "8lBReBWiBYPJ",
        "colab_type": "text"
      },
      "source": [
        "# collection of datatypes:\n",
        "- list\n",
        "- tuple\n",
        "- set\n",
        "- dictionary\n"
      ]
    },
    {
      "cell_type": "markdown",
      "metadata": {
        "id": "0uEESW8_Byqm",
        "colab_type": "text"
      },
      "source": [
        "# list\n",
        "- one of the data structures in python\n",
        "- data structure means to store,sort and search options\n",
        "- its one common data structure in python,the items of the list seperated by comma and enclosed by square brackets\n",
        "\n",
        "###example\n",
        "- list1 = [1,2,3,4]\n",
        "- list2 == [\"gitam\",1,2,3]\n"
      ]
    },
    {
      "cell_type": "code",
      "metadata": {
        "id": "51HaHk5xDPDH",
        "colab_type": "code",
        "colab": {
          "base_uri": "https://localhost:8080/",
          "height": 119
        },
        "outputId": "20e5d73f-7fc8-4637-a0d5-c520ac7c92e0"
      },
      "source": [
        "li = [1,8,16,9,2]\n",
        "print(li)\n",
        "print(li[2])\n",
        "print(li[-3])\n",
        "print(li[2:])\n",
        "print(li[2:4])\n",
        "print(li[-3:-1])\n"
      ],
      "execution_count": 2,
      "outputs": [
        {
          "output_type": "stream",
          "text": [
            "[1, 8, 16, 9, 2]\n",
            "16\n",
            "16\n",
            "[16, 9, 2]\n",
            "[16, 9]\n",
            "[16, 9]\n"
          ],
          "name": "stdout"
        }
      ]
    },
    {
      "cell_type": "code",
      "metadata": {
        "id": "11BA8AmxGAKy",
        "colab_type": "code",
        "colab": {
          "base_uri": "https://localhost:8080/",
          "height": 51
        },
        "outputId": "d1e83f12-9a5b-4211-853d-f55d11b4571b"
      },
      "source": [
        "li = [\"gitam\",1234,123,1236,\"hyd\"]\n",
        "print(li)\n",
        "print(li[0][2])\n"
      ],
      "execution_count": 3,
      "outputs": [
        {
          "output_type": "stream",
          "text": [
            "['gitam', 1234, 123, 1236, 'hyd']\n",
            "t\n"
          ],
          "name": "stdout"
        }
      ]
    },
    {
      "cell_type": "code",
      "metadata": {
        "id": "qKc5kY2QHKpK",
        "colab_type": "code",
        "colab": {
          "base_uri": "https://localhost:8080/",
          "height": 34
        },
        "outputId": "ce4f506c-99bf-4151-a46a-b4d09853dd47"
      },
      "source": [
        "del li[3]\n",
        "print(li)\n"
      ],
      "execution_count": 4,
      "outputs": [
        {
          "output_type": "stream",
          "text": [
            "['gitam', 1234, 123, 'hyd']\n"
          ],
          "name": "stdout"
        }
      ]
    },
    {
      "cell_type": "code",
      "metadata": {
        "id": "_nZr1QQ2H-wP",
        "colab_type": "code",
        "colab": {
          "base_uri": "https://localhost:8080/",
          "height": 34
        },
        "outputId": "deffed5c-8283-4d2e-b948-f84f95b6170d"
      },
      "source": [
        "# update\n",
        "li[1] = 12\n",
        "print(li)\n"
      ],
      "execution_count": 6,
      "outputs": [
        {
          "output_type": "stream",
          "text": [
            "['gitam', 12, 123, 'hyd']\n"
          ],
          "name": "stdout"
        }
      ]
    },
    {
      "cell_type": "code",
      "metadata": {
        "id": "qPDDtmSDIXPX",
        "colab_type": "code",
        "colab": {
          "base_uri": "https://localhost:8080/",
          "height": 102
        },
        "outputId": "d2daecf0-7227-4ecd-fd00-91a4c899898a"
      },
      "source": [
        "# basic list functions\n",
        "li = [1,9,116,25,5]\n",
        "print(max(li))\n",
        "print(min(li))\n",
        "print(sum(li))\n",
        "print(len(li))\n",
        "print(sum(li)//len(li))"
      ],
      "execution_count": 14,
      "outputs": [
        {
          "output_type": "stream",
          "text": [
            "116\n",
            "1\n",
            "156\n",
            "5\n",
            "31\n"
          ],
          "name": "stdout"
        }
      ]
    },
    {
      "cell_type": "code",
      "metadata": {
        "id": "PuErxGwiItLA",
        "colab_type": "code",
        "colab": {
          "base_uri": "https://localhost:8080/",
          "height": 34
        },
        "outputId": "b98d6cc6-0dcd-4343-aef1-72a83719cd37"
      },
      "source": [
        "li = [1,9,116,25,5,9]\n",
        "#li.append(89)\n",
        "#li.insert(2,56)\n",
        "#li.count(9)\n",
        "#li.index(5)\n",
        "#li.sort()\n",
        "#li.pop()\n",
        "li.pop(1)\n",
        "li"
      ],
      "execution_count": 31,
      "outputs": [
        {
          "output_type": "execute_result",
          "data": {
            "text/plain": [
              "[1, 116, 25, 5, 9]"
            ]
          },
          "metadata": {
            "tags": []
          },
          "execution_count": 31
        }
      ]
    },
    {
      "cell_type": "markdown",
      "metadata": {
        "id": "KiWh_hE5NlYT",
        "colab_type": "text"
      },
      "source": [
        "### del-delete the list item from list\n",
        "#### pop-remove last index value\n",
        "##### pop(index)-removes the items from specified index"
      ]
    },
    {
      "cell_type": "code",
      "metadata": {
        "id": "ZQcmiVoYKrmn",
        "colab_type": "code",
        "colab": {
          "base_uri": "https://localhost:8080/",
          "height": 34
        },
        "outputId": "35d556d7-8a97-40a9-f61f-f990cc3ab1e0"
      },
      "source": [
        "li = [1,9,116,25,5,9]\n",
        "#li1 = [76,78,79,]\n",
        "#li.extend(li1)\n",
        "li.reverse()\n",
        "li"
      ],
      "execution_count": 34,
      "outputs": [
        {
          "output_type": "execute_result",
          "data": {
            "text/plain": [
              "[9, 5, 25, 116, 9, 1]"
            ]
          },
          "metadata": {
            "tags": []
          },
          "execution_count": 34
        }
      ]
    },
    {
      "cell_type": "code",
      "metadata": {
        "id": "lwivqQveO4cn",
        "colab_type": "code",
        "colab": {
          "base_uri": "https://localhost:8080/",
          "height": 51
        },
        "outputId": "6e7388e2-98db-42b0-a186-3ba9a70aa29e"
      },
      "source": [
        "# function to return the largest number from given list\n",
        "def largenumber(li):\n",
        "    li.sort()\n",
        "    return li[-1]\n",
        "def genericlarge(li,n):   \n",
        "    li.sort()\n",
        "    return li[-n] \n",
        "li = [19,1,25,45,76]\n",
        "print(largenumber(li))\n",
        "print(genericlarge(li,3))\n"
      ],
      "execution_count": 37,
      "outputs": [
        {
          "output_type": "stream",
          "text": [
            "76\n",
            "25\n"
          ],
          "name": "stdout"
        }
      ]
    },
    {
      "cell_type": "code",
      "metadata": {
        "id": "npNKYSdTQXCh",
        "colab_type": "code",
        "colab": {
          "base_uri": "https://localhost:8080/",
          "height": 51
        },
        "outputId": "5d89497a-9b1d-412c-d186-f601e5ed6e14"
      },
      "source": [
        "# function to return the smallest number from given list\n",
        "def smallnumber(li):\n",
        "    li.sort()\n",
        "    return li[0]\n",
        "def genericsmall(li,n):   \n",
        "    li.sort()\n",
        "    return li[n] \n",
        "li = [19,1,25,45,76]\n",
        "print(smallnumber(li))\n",
        "print(genericsmall(li,3))\n"
      ],
      "execution_count": 42,
      "outputs": [
        {
          "output_type": "stream",
          "text": [
            "1\n",
            "45\n"
          ],
          "name": "stdout"
        }
      ]
    },
    {
      "cell_type": "markdown",
      "metadata": {
        "id": "5F6G83FxSAGi",
        "colab_type": "text"
      },
      "source": [
        "## tuple\n",
        "- its one common data structure in python,the items of tuple seperated by comma and enclosed by parenthesis()\n",
        "### example:\n",
        "- ti=(1,2,3,4)"
      ]
    },
    {
      "cell_type": "markdown",
      "metadata": {
        "id": "zQWQn2h-SuFX",
        "colab_type": "text"
      },
      "source": [
        "## list and tuple\n",
        "- in list are mutable -can be changed/modified\n",
        "- list used to modify,add,delete,update\n",
        "- tuple are immutable -cannot be changed\n",
        "- tuple used to access data only"
      ]
    },
    {
      "cell_type": "code",
      "metadata": {
        "id": "F-yckV08TYcY",
        "colab_type": "code",
        "colab": {
          "base_uri": "https://localhost:8080/",
          "height": 34
        },
        "outputId": "3a7a0956-e04c-43b3-b4e7-5ec851d43b88"
      },
      "source": [
        "t1 =(1,2,3,4,54)\n",
        "t1"
      ],
      "execution_count": 43,
      "outputs": [
        {
          "output_type": "execute_result",
          "data": {
            "text/plain": [
              "(1, 2, 3, 4, 54)"
            ]
          },
          "metadata": {
            "tags": []
          },
          "execution_count": 43
        }
      ]
    },
    {
      "cell_type": "markdown",
      "metadata": {
        "id": "TpEHqJSdWRRI",
        "colab_type": "text"
      },
      "source": [
        "# dictionaries\n",
        "1. it works on concept of set unique data\n",
        "2. dictionary contains keys and values\n",
        "3. each key and value seperated by comma\n",
        "4. each key is seperated from its values with colon(:)"
      ]
    },
    {
      "cell_type": "code",
      "metadata": {
        "id": "anihJI4ZW79v",
        "colab_type": "code",
        "colab": {
          "base_uri": "https://localhost:8080/",
          "height": 34
        },
        "outputId": "0b5f8146-37de-4208-9dd6-4ce5f872dcbe"
      },
      "source": [
        "d1={\"name\":\"gitam\",\"email\":\"gitam@in\",\"address\":\"hyderabad\"}\n",
        "d1"
      ],
      "execution_count": 45,
      "outputs": [
        {
          "output_type": "execute_result",
          "data": {
            "text/plain": [
              "{'address': 'hyderabad', 'email': 'gitam@in', 'name': 'gitam'}"
            ]
          },
          "metadata": {
            "tags": []
          },
          "execution_count": 45
        }
      ]
    },
    {
      "cell_type": "code",
      "metadata": {
        "id": "H7k3JuRtW8GW",
        "colab_type": "code",
        "colab": {
          "base_uri": "https://localhost:8080/",
          "height": 34
        },
        "outputId": "c4457e0f-d9da-4a09-a1e8-ed1fa981facd"
      },
      "source": [
        "d1['name']"
      ],
      "execution_count": 46,
      "outputs": [
        {
          "output_type": "execute_result",
          "data": {
            "text/plain": [
              "'gitam'"
            ]
          },
          "metadata": {
            "tags": []
          },
          "execution_count": 46
        }
      ]
    },
    {
      "cell_type": "code",
      "metadata": {
        "id": "RgWfKl0BXlYI",
        "colab_type": "code",
        "colab": {
          "base_uri": "https://localhost:8080/",
          "height": 34
        },
        "outputId": "f93161f4-606c-4cb7-bbc9-74bdba44af2b"
      },
      "source": [
        "d1={\"name\":\"gitam\",\"email\":\"gitam@in\",\"address\":\"hyderabad\"}\n",
        "d1['name'] = 'pranavi'\n",
        "d1"
      ],
      "execution_count": 47,
      "outputs": [
        {
          "output_type": "execute_result",
          "data": {
            "text/plain": [
              "{'address': 'hyderabad', 'email': 'gitam@in', 'name': 'pranavi'}"
            ]
          },
          "metadata": {
            "tags": []
          },
          "execution_count": 47
        }
      ]
    },
    {
      "cell_type": "code",
      "metadata": {
        "id": "IGVJH2unX0tY",
        "colab_type": "code",
        "colab": {
          "base_uri": "https://localhost:8080/",
          "height": 85
        },
        "outputId": "edca39b0-faee-46f9-b09b-5705b269b619"
      },
      "source": [
        "d1['roll_no']='221710311057'\n",
        "d1"
      ],
      "execution_count": 48,
      "outputs": [
        {
          "output_type": "execute_result",
          "data": {
            "text/plain": [
              "{'address': 'hyderabad',\n",
              " 'email': 'gitam@in',\n",
              " 'name': 'pranavi',\n",
              " 'roll_no': '221710311057'}"
            ]
          },
          "metadata": {
            "tags": []
          },
          "execution_count": 48
        }
      ]
    },
    {
      "cell_type": "code",
      "metadata": {
        "id": "W74mk2Z7YA6c",
        "colab_type": "code",
        "colab": {
          "base_uri": "https://localhost:8080/",
          "height": 34
        },
        "outputId": "a11d5063-371b-4a05-d800-bacdae40df17"
      },
      "source": [
        "del d1['email']\n",
        "d1"
      ],
      "execution_count": 49,
      "outputs": [
        {
          "output_type": "execute_result",
          "data": {
            "text/plain": [
              "{'address': 'hyderabad', 'name': 'pranavi', 'roll_no': '221710311057'}"
            ]
          },
          "metadata": {
            "tags": []
          },
          "execution_count": 49
        }
      ]
    },
    {
      "cell_type": "code",
      "metadata": {
        "id": "tCJp2uyMYI9x",
        "colab_type": "code",
        "colab": {
          "base_uri": "https://localhost:8080/",
          "height": 34
        },
        "outputId": "c386c569-c169-4dba-9848-256976a8befb"
      },
      "source": [
        "d1.keys()"
      ],
      "execution_count": 50,
      "outputs": [
        {
          "output_type": "execute_result",
          "data": {
            "text/plain": [
              "dict_keys(['name', 'address', 'roll_no'])"
            ]
          },
          "metadata": {
            "tags": []
          },
          "execution_count": 50
        }
      ]
    },
    {
      "cell_type": "code",
      "metadata": {
        "id": "GMUs5Zr4YA5P",
        "colab_type": "code",
        "colab": {
          "base_uri": "https://localhost:8080/",
          "height": 34
        },
        "outputId": "b5f91bba-59f0-436a-88f3-241d1eddefa7"
      },
      "source": [
        "d1.values()"
      ],
      "execution_count": 51,
      "outputs": [
        {
          "output_type": "execute_result",
          "data": {
            "text/plain": [
              "dict_values(['pranavi', 'hyderabad', '221710311057'])"
            ]
          },
          "metadata": {
            "tags": []
          },
          "execution_count": 51
        }
      ]
    },
    {
      "cell_type": "code",
      "metadata": {
        "id": "vY7UrmobY5hw",
        "colab_type": "code",
        "colab": {
          "base_uri": "https://localhost:8080/",
          "height": 34
        },
        "outputId": "11e954da-55f0-4539-9b7d-1668f29dea61"
      },
      "source": [
        "d1.items()"
      ],
      "execution_count": 52,
      "outputs": [
        {
          "output_type": "execute_result",
          "data": {
            "text/plain": [
              "dict_items([('name', 'pranavi'), ('address', 'hyderabad'), ('roll_no', '221710311057')])"
            ]
          },
          "metadata": {
            "tags": []
          },
          "execution_count": 52
        }
      ]
    },
    {
      "cell_type": "markdown",
      "metadata": {
        "id": "aUr75_AQZIL0",
        "colab_type": "text"
      },
      "source": [
        "# strings:\n"
      ]
    },
    {
      "cell_type": "code",
      "metadata": {
        "id": "sGfDC_FVZckA",
        "colab_type": "code",
        "colab": {
          "base_uri": "https://localhost:8080/",
          "height": 51
        },
        "outputId": "b050a3ee-852a-4821-f78b-2199ee04927f"
      },
      "source": [
        "s1 = \"python\"\n",
        "print(s1)\n",
        "print(type(s1))"
      ],
      "execution_count": 53,
      "outputs": [
        {
          "output_type": "stream",
          "text": [
            "python\n",
            "<class 'str'>\n"
          ],
          "name": "stdout"
        }
      ]
    },
    {
      "cell_type": "code",
      "metadata": {
        "id": "9xsEOcKPZqcJ",
        "colab_type": "code",
        "colab": {
          "base_uri": "https://localhost:8080/",
          "height": 102
        },
        "outputId": "796bac45-3a58-4e2a-840f-57a5258f1a5a"
      },
      "source": [
        "s1 = \"python\"\n",
        "print(s1[0])\n",
        "print(s1[len(s1)-4])\n",
        "print(s1[1:-1])\n",
        "print(s1[len(s1)//2])\n",
        "print(s1[::3])"
      ],
      "execution_count": 64,
      "outputs": [
        {
          "output_type": "stream",
          "text": [
            "p\n",
            "t\n",
            "ytho\n",
            "h\n",
            "ph\n"
          ],
          "name": "stdout"
        }
      ]
    },
    {
      "cell_type": "markdown",
      "metadata": {
        "id": "wr5M-u2LcQIh",
        "colab_type": "text"
      },
      "source": [
        "# string built in methods:\n",
        "- upper \n",
        "- lower \n",
        "- islower\n",
        "- isupper\n",
        "- istitle\n",
        "- isnumeric\n",
        "- isalpha\n",
        "- isspace\n"
      ]
    },
    {
      "cell_type": "code",
      "metadata": {
        "id": "rojv1D4BcmBJ",
        "colab_type": "code",
        "colab": {
          "base_uri": "https://localhost:8080/",
          "height": 136
        },
        "outputId": "98dd3040-18e7-4f93-b39a-aae45c11afbe"
      },
      "source": [
        "s1 = 'python'\n",
        "print(s1.upper())\n",
        "print(s1.lower())\n",
        "print(s1.isupper())\n",
        "print(s1.islower())\n",
        "print(s1.isnumeric())\n",
        "print(s1.isalpha())\n",
        "print(s1.isspace())"
      ],
      "execution_count": 73,
      "outputs": [
        {
          "output_type": "stream",
          "text": [
            "PYTHON\n",
            "python\n",
            "False\n",
            "True\n",
            "False\n",
            "True\n",
            "False\n"
          ],
          "name": "stdout"
        }
      ]
    },
    {
      "cell_type": "code",
      "metadata": {
        "id": "lLJn_ILedoIB",
        "colab_type": "code",
        "colab": {
          "base_uri": "https://localhost:8080/",
          "height": 34
        },
        "outputId": "a1d6352e-21dc-4d17-fb30-c1b217fcd326"
      },
      "source": [
        "s1 =\" \"\n",
        "print(s1.isspace())"
      ],
      "execution_count": 72,
      "outputs": [
        {
          "output_type": "stream",
          "text": [
            "True\n"
          ],
          "name": "stdout"
        }
      ]
    },
    {
      "cell_type": "markdown",
      "metadata": {
        "id": "SHuyZdmuehh5",
        "colab_type": "text"
      },
      "source": [
        "## string methods:\n",
        "- join()\n",
        "- split()\n",
        "- replace()\n"
      ]
    },
    {
      "cell_type": "code",
      "metadata": {
        "id": "U_P6yC1veroZ",
        "colab_type": "code",
        "colab": {
          "base_uri": "https://localhost:8080/",
          "height": 34
        },
        "outputId": "bbbaa732-0edc-439e-b306-98aaecb3ffec"
      },
      "source": [
        "s1 = \"python\"\n",
        "print(\" * \".join(s1))"
      ],
      "execution_count": 78,
      "outputs": [
        {
          "output_type": "stream",
          "text": [
            "p * y * t * h * o * n\n"
          ],
          "name": "stdout"
        }
      ]
    },
    {
      "cell_type": "code",
      "metadata": {
        "id": "kF0DHw7be4LS",
        "colab_type": "code",
        "colab": {
          "base_uri": "https://localhost:8080/",
          "height": 34
        },
        "outputId": "48ef967a-8ad4-44c8-9955-11c0a4808f58"
      },
      "source": [
        "s1 =\"python programming easy to learn\"\n",
        "print(s1.split())"
      ],
      "execution_count": 80,
      "outputs": [
        {
          "output_type": "stream",
          "text": [
            "['python', 'programming', 'easy', 'to', 'learn']\n"
          ],
          "name": "stdout"
        }
      ]
    },
    {
      "cell_type": "code",
      "metadata": {
        "id": "zmr19lE6f2lE",
        "colab_type": "code",
        "colab": {
          "base_uri": "https://localhost:8080/",
          "height": 51
        },
        "outputId": "d7424ea7-1ca3-4b1c-de06-278ae0230f82"
      },
      "source": [
        "s1 =\"python programming easy to learn\"\n",
        "print(s1.replace(\"ing\",'gitam'))\n",
        "print(s1.replace(\"easy\",'veryhard'))\n"
      ],
      "execution_count": 82,
      "outputs": [
        {
          "output_type": "stream",
          "text": [
            "python programmgitam easy to learn\n",
            "python programming veryhard to learn\n"
          ],
          "name": "stdout"
        }
      ]
    },
    {
      "cell_type": "markdown",
      "metadata": {
        "id": "XXqZlK1Ae4uo",
        "colab_type": "text"
      },
      "source": [
        ""
      ]
    }
  ]
}