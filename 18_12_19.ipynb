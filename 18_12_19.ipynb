{
  "nbformat": 4,
  "nbformat_minor": 0,
  "metadata": {
    "colab": {
      "name": "18-12-19.ipynb",
      "provenance": [],
      "collapsed_sections": []
    },
    "kernelspec": {
      "name": "python3",
      "display_name": "Python 3"
    }
  },
  "cells": [
    {
      "cell_type": "code",
      "metadata": {
        "id": "jcexydihOg6s",
        "colab_type": "code",
        "colab": {}
      },
      "source": [
        "#include<stdio.h>\n",
        "#include <limits.h>\n",
        "void main()\n",
        "{\n",
        "    int a;\n",
        "    a=INT_MIN;\n",
        "    printf(\"%d\",a);\n",
        "}\n"
      ],
      "execution_count": 0,
      "outputs": []
    },
    {
      "cell_type": "code",
      "metadata": {
        "id": "EdRLV4CaQwvq",
        "colab_type": "code",
        "colab": {}
      },
      "source": [
        "#include<stdio.h>\n",
        "#include <limits.h>\n",
        "void main()\n",
        "{\n",
        "    int i=65;\n",
        "    for(i=65;i<=122;i++)\n",
        "    printf(\"%c=%d\",i,i);\n",
        "}\n"
      ],
      "execution_count": 0,
      "outputs": []
    },
    {
      "cell_type": "code",
      "metadata": {
        "id": "3l3PPXMwX8QJ",
        "colab_type": "code",
        "colab": {}
      },
      "source": [
        "#include<stdio.h>\n",
        "#include <limits.h>\n",
        "void main()\n",
        "{\n",
        "    int i=65;\n",
        "    for(i=65;i<=200;i++)\n",
        "    printf(\"%c=%d\",i,i);\n",
        "}\n"
      ],
      "execution_count": 0,
      "outputs": []
    },
    {
      "cell_type": "markdown",
      "metadata": {
        "id": "A4cRGWKGVWUR",
        "colab_type": "text"
      },
      "source": [
        "# program to check ascii values"
      ]
    },
    {
      "cell_type": "code",
      "metadata": {
        "id": "9H67aayYVC1Y",
        "colab_type": "code",
        "colab": {}
      },
      "source": [
        "\\b:\n",
        "#include<stdio.h>\n",
        "#include <limits.h>\n",
        "void main()\n",
        "{\n",
        "    printf(\"abcd\\bxyz\");\n",
        "}\n"
      ],
      "execution_count": 0,
      "outputs": []
    },
    {
      "cell_type": "code",
      "metadata": {
        "id": "EIKpIttfQwtT",
        "colab_type": "code",
        "colab": {}
      },
      "source": [
        "#\\b\\b:\n",
        "#include<stdio.h>\n",
        "#include <limits.h>\n",
        "void main()\n",
        "{\n",
        "    printf(\"abcd\\b\\bxyz\");\n",
        "}\n"
      ],
      "execution_count": 0,
      "outputs": []
    },
    {
      "cell_type": "code",
      "metadata": {
        "id": "nDJf7-eAS-FR",
        "colab_type": "code",
        "colab": {}
      },
      "source": [
        "#\\n:\n",
        "#include<stdio.h>\n",
        "#include <limits.h>\n",
        "void main()\n",
        "{\n",
        "    printf(\"abcd\\nxyz\");\n",
        "}\n"
      ],
      "execution_count": 0,
      "outputs": []
    },
    {
      "cell_type": "code",
      "metadata": {
        "id": "2vNv8CnOTJix",
        "colab_type": "code",
        "colab": {}
      },
      "source": [
        "#include<stdio.h>\n",
        "#include <limits.h>\n",
        "void main()\n",
        "{\n",
        "    printf(\"abcd\\rxyz\");\n",
        "}\n"
      ],
      "execution_count": 0,
      "outputs": []
    },
    {
      "cell_type": "code",
      "metadata": {
        "id": "_P4-mtQoTPg0",
        "colab_type": "code",
        "colab": {}
      },
      "source": [
        "#include<stdio.h>\n",
        "#include <limits.h>\n",
        "void main()\n",
        "{\n",
        "    printf(\"abcd\\fxyz\");\n",
        "}\n"
      ],
      "execution_count": 0,
      "outputs": []
    },
    {
      "cell_type": "code",
      "metadata": {
        "id": "K0LXDKmFTPfg",
        "colab_type": "code",
        "colab": {}
      },
      "source": [
        "#include<stdio.h>\n",
        "#include <limits.h>\n",
        "void main()\n",
        "{\n",
        "    printf(\"abcd\\txyz\");\n",
        "}\n"
      ],
      "execution_count": 0,
      "outputs": []
    },
    {
      "cell_type": "code",
      "metadata": {
        "id": "VsHCk5klToLT",
        "colab_type": "code",
        "colab": {}
      },
      "source": [
        "#include<stdio.h>\n",
        "#include <limits.h>\n",
        "void main()\n",
        "{\n",
        "    printf(\"abcd\\vxyz\");\n",
        "}\n"
      ],
      "execution_count": 0,
      "outputs": []
    },
    {
      "cell_type": "code",
      "metadata": {
        "id": "Dix9cdmjUGp5",
        "colab_type": "code",
        "colab": {}
      },
      "source": [
        "//\n",
        "#include<stdio.h>\n",
        "#include <limits.h>\n",
        "void main()\n",
        "{\n",
        "    printf(\"abcd\\\\xyz\");\n",
        "}\n"
      ],
      "execution_count": 0,
      "outputs": []
    },
    {
      "cell_type": "code",
      "metadata": {
        "id": "UIN7Dz8-UGzr",
        "colab_type": "code",
        "colab": {}
      },
      "source": [
        "\\':\n",
        "#include<stdio.h>\n",
        "#include <limits.h>\n",
        "void main()\n",
        "{\n",
        "    printf(\"abcd\\'xyz\");\n",
        "}\n"
      ],
      "execution_count": 0,
      "outputs": []
    },
    {
      "cell_type": "code",
      "metadata": {
        "id": "FwKzJi3OUGoo",
        "colab_type": "code",
        "colab": {}
      },
      "source": [
        "#include<stdio.h>\n",
        "#include <limits.h>\n",
        "void main()\n",
        "{\n",
        "    printf(\"abcd\\\"xyz\");\n",
        "}\n"
      ],
      "execution_count": 0,
      "outputs": []
    },
    {
      "cell_type": "code",
      "metadata": {
        "id": "S1DWgTHrURHa",
        "colab_type": "code",
        "colab": {}
      },
      "source": [
        "#include<stdio.h>\n",
        "#include <limits.h>\n",
        "void main()\n",
        "{\n",
        "    printf(\"abcd\\axyz\");\n",
        "}\n"
      ],
      "execution_count": 0,
      "outputs": []
    },
    {
      "cell_type": "code",
      "metadata": {
        "id": "t4lBII6wURGJ",
        "colab_type": "code",
        "colab": {}
      },
      "source": [
        "#include<stdio.h>\n",
        "#include <limits.h>\n",
        "void main()\n",
        "{\n",
        "    int i=29;\n",
        "    printf(\"%x\",i);\n",
        "}\n"
      ],
      "execution_count": 0,
      "outputs": []
    },
    {
      "cell_type": "code",
      "metadata": {
        "id": "LghZlzkTWxPL",
        "colab_type": "code",
        "colab": {}
      },
      "source": [
        "#include<stdio.h>\n",
        "#include <limits.h>\n",
        "void main()\n",
        "{\n",
        "    int i=29;\n",
        "    printf(\"%o\",i);\n",
        "}\n"
      ],
      "execution_count": 0,
      "outputs": []
    },
    {
      "cell_type": "code",
      "metadata": {
        "id": "GyXioWQ8WxcQ",
        "colab_type": "code",
        "colab": {}
      },
      "source": [
        "#include<stdio.h>\n",
        "#include <limits.h>\n",
        "void main()\n",
        "{\n",
        "    int i=035;\n",
        "    printf(\"%d\",i);\n",
        "}\n"
      ],
      "execution_count": 0,
      "outputs": []
    },
    {
      "cell_type": "code",
      "metadata": {
        "id": "Q6iVnJSmXAop",
        "colab_type": "code",
        "colab": {}
      },
      "source": [
        "#include<stdio.h>\n",
        "#include <limits.h>\n",
        "void main()\n",
        "{\n",
        "    int i=035;\n",
        "    printf(\"%o\",i);\n",
        "}\n"
      ],
      "execution_count": 0,
      "outputs": []
    },
    {
      "cell_type": "code",
      "metadata": {
        "id": "qmojh3dOXHYp",
        "colab_type": "code",
        "colab": {}
      },
      "source": [
        "#include<stdio.h>\n",
        "#include <limits.h>\n",
        "void main()\n",
        "{\n",
        "    int i=0x35;\n",
        "    printf(\"%d\",i);\n",
        "}\n"
      ],
      "execution_count": 0,
      "outputs": []
    },
    {
      "cell_type": "code",
      "metadata": {
        "id": "5FMadDCWXHno",
        "colab_type": "code",
        "colab": {}
      },
      "source": [
        "#include<stdio.h>\n",
        "#include <limits.h>\n",
        "void main()\n",
        "{\n",
        "    printf(\"%d\",'b'*'a');\n",
        "}\n"
      ],
      "execution_count": 0,
      "outputs": []
    },
    {
      "cell_type": "code",
      "metadata": {
        "id": "SUHyzsulWxmw",
        "colab_type": "code",
        "colab": {}
      },
      "source": [
        "#include<stdio.h>\n",
        "#include <limits.h>\n",
        "void main()\n",
        "{\n",
        "    printf(\"%d\",'b'+'a');\n",
        "}\n"
      ],
      "execution_count": 0,
      "outputs": []
    },
    {
      "cell_type": "code",
      "metadata": {
        "id": "4KgpZqdVWxxA",
        "colab_type": "code",
        "colab": {}
      },
      "source": [
        "#include<stdio.h>\n",
        "#include <limits.h>\n",
        "void main()\n",
        "{\n",
        "    printf(\"%d\",'b'-'a');\n",
        "}\n"
      ],
      "execution_count": 0,
      "outputs": []
    },
    {
      "cell_type": "code",
      "metadata": {
        "id": "I1ed2UwHWx_R",
        "colab_type": "code",
        "colab": {}
      },
      "source": [
        "#include<stdio.h>\n",
        "#include <limits.h>\n",
        "void main()\n",
        "{\n",
        "    printf(\"%d\",'b'/'a');\n",
        "}\n"
      ],
      "execution_count": 0,
      "outputs": []
    },
    {
      "cell_type": "code",
      "metadata": {
        "id": "H6IIRaEpZiGe",
        "colab_type": "code",
        "colab": {}
      },
      "source": [
        "#include<stdio.h>\n",
        "#include <limits.h>\n",
        "void main()\n",
        "{\n",
        "    printf(\"%d\",'b'%'a');\n",
        "}\n"
      ],
      "execution_count": 0,
      "outputs": []
    },
    {
      "cell_type": "code",
      "metadata": {
        "id": "QUZ6E8y0ZiSh",
        "colab_type": "code",
        "colab": {}
      },
      "source": [
        "#include<stdio.h>\n",
        "#include <limits.h>\n",
        "void main()\n",
        "{\n",
        "    float a;\n",
        "    a=fmod(20.5,3.2);\n",
        "    printf(\"%f\",a);\n",
        "}\n"
      ],
      "execution_count": 0,
      "outputs": []
    },
    {
      "cell_type": "code",
      "metadata": {
        "id": "DQQLT4xyZiWy",
        "colab_type": "code",
        "colab": {}
      },
      "source": [
        "#include<stdio.h>\n",
        "#include <limits.h>\n",
        "void main()\n",
        "{\n",
        "    int b,a=5;\n",
        "    b=++a;\n",
        "    printf(\"%d%d\",a,b);\n",
        "}\n"
      ],
      "execution_count": 0,
      "outputs": []
    },
    {
      "cell_type": "code",
      "metadata": {
        "id": "gPivSsWaastd",
        "colab_type": "code",
        "colab": {}
      },
      "source": [
        "#include<stdio.h>\n",
        "#include <limits.h>\n",
        "void main()\n",
        "{\n",
        "    int b,a=5;\n",
        "    b=a++;\n",
        "    printf(\"%d%d\",a,b);\n",
        "}\n"
      ],
      "execution_count": 0,
      "outputs": []
    },
    {
      "cell_type": "code",
      "metadata": {
        "id": "jnIA1xI6as3Z",
        "colab_type": "code",
        "colab": {}
      },
      "source": [
        "#include<stdio.h>\n",
        "#include <limits.h>\n",
        "void main()\n",
        "{\n",
        "    int b,a=5;\n",
        "    printf(\"%d %d\",a++);\n",
        "    printf(\"%d\",a);\n",
        "}\n"
      ],
      "execution_count": 0,
      "outputs": []
    },
    {
      "cell_type": "code",
      "metadata": {
        "id": "1cxEZOAratAr",
        "colab_type": "code",
        "colab": {}
      },
      "source": [
        "#include<stdio.h>\n",
        "#include <limits.h>\n",
        "void main()\n",
        "{\n",
        "    int a,b,c;\n",
        "    c=scanf(\"%d%d\",&a,&b);\n",
        "    printf(\"\\n%d\",c);\n",
        "}\n"
      ],
      "execution_count": 0,
      "outputs": []
    },
    {
      "cell_type": "code",
      "metadata": {
        "id": "TQPbtF-latFi",
        "colab_type": "code",
        "colab": {}
      },
      "source": [
        "#include<stdio.h>\n",
        "#include <limits.h>\n",
        "void main()\n",
        "{\n",
        "    int a=5,b,c;\n",
        "    c=b&&a;\n",
        "    printf(\"%d\",c);\n",
        "}\n"
      ],
      "execution_count": 0,
      "outputs": []
    },
    {
      "cell_type": "code",
      "metadata": {
        "id": "_Ssk-1PJatKT",
        "colab_type": "code",
        "colab": {}
      },
      "source": [
        "#include<stdio.h>\n",
        "#include <limits.h>\n",
        "void main()\n",
        "{\n",
        "    int a=5,b,c;\n",
        "    c=b&&a;\n",
        "    printf(\"%d\",c);\n",
        "}\n"
      ],
      "execution_count": 0,
      "outputs": []
    },
    {
      "cell_type": "code",
      "metadata": {
        "id": "YC2wpzNeZibk",
        "colab_type": "code",
        "colab": {}
      },
      "source": [
        "#include<stdio.h>\n",
        "#include <limits.h>\n",
        "void main()\n",
        "{\n",
        "    int a=5,b=0,c;\n",
        "    c=b&&++a;\n",
        "    printf(\"%d\",a);\n",
        "}\n"
      ],
      "execution_count": 0,
      "outputs": []
    },
    {
      "cell_type": "code",
      "metadata": {
        "id": "vhKKxPBxZify",
        "colab_type": "code",
        "colab": {}
      },
      "source": [
        "#include<stdio.h>\n",
        "#include <limits.h>\n",
        "void main()\n",
        "{\n",
        "    int a=5,b=0,c;\n",
        "    c=b||++a;\n",
        "    printf(\"%d\",a);\n",
        "}\n"
      ],
      "execution_count": 0,
      "outputs": []
    },
    {
      "cell_type": "code",
      "metadata": {
        "id": "los9qqC6g1GP",
        "colab_type": "code",
        "colab": {}
      },
      "source": [
        "#include<stdio.h>\n",
        "#include <limits.h>\n",
        "void main()\n",
        "{\n",
        "    int a=5,b=6,c,d=0;\n",
        "    c=b||a&&d;\n",
        "    printf(\"%d\",c);\n",
        "}\n"
      ],
      "execution_count": 0,
      "outputs": []
    },
    {
      "cell_type": "code",
      "metadata": {
        "id": "hv2tYmmDg1Ml",
        "colab_type": "code",
        "colab": {}
      },
      "source": [
        "#include<stdio.h>\n",
        "#include <limits.h>\n",
        "void main()\n",
        "{\n",
        "    int a=5,b=6,c;\n",
        "    c=a<<6;\n",
        "    printf(\"%d\",c);\n",
        "}\n"
      ],
      "execution_count": 0,
      "outputs": []
    },
    {
      "cell_type": "code",
      "metadata": {
        "id": "6orkvzyyg1UL",
        "colab_type": "code",
        "colab": {}
      },
      "source": [
        "#include<stdio.h>\n",
        "#include <limits.h>\n",
        "void main()\n",
        "{\n",
        "    int a=5,b=6,c;\n",
        "    c=a>>2;\n",
        "    printf(\"%d\",c);\n",
        "}\n"
      ],
      "execution_count": 0,
      "outputs": []
    },
    {
      "cell_type": "code",
      "metadata": {
        "id": "cxlDaidtg1Ye",
        "colab_type": "code",
        "colab": {}
      },
      "source": [
        "#include<stdio.h>\n",
        "#include <limits.h>\n",
        "void main()\n",
        "{\n",
        "    int a=5,b=6,c;\n",
        "    c=~5;\n",
        "    printf(\"%d\",c);\n",
        "}\n"
      ],
      "execution_count": 0,
      "outputs": []
    },
    {
      "cell_type": "code",
      "metadata": {
        "id": "4ey32VYWg1dk",
        "colab_type": "code",
        "colab": {}
      },
      "source": [
        "#include<stdio.h>\n",
        "#include <limits.h>\n",
        "void main()\n",
        "{\n",
        "    int a=-56,c;\n",
        "    c=~a;\n",
        "    printf(\"%d\",c);\n",
        "}\n"
      ],
      "execution_count": 0,
      "outputs": []
    },
    {
      "cell_type": "code",
      "metadata": {
        "id": "SBvUAAgLg1R5",
        "colab_type": "code",
        "colab": {}
      },
      "source": [
        "#include<stdio.h>\n",
        "#include <limits.h>\n",
        "void main()\n",
        "{\n",
        "    int a=5,b=5;\n",
        "    if(a==b)\n",
        "    printf(\"yes\");\n",
        "    else\n",
        "    printf(\"no\");\n",
        "    printf(\"\\n%d\",a);\n",
        "}\n"
      ],
      "execution_count": 0,
      "outputs": []
    },
    {
      "cell_type": "code",
      "metadata": {
        "id": "dqkQEfDTg1Kp",
        "colab_type": "code",
        "colab": {}
      },
      "source": [
        "#include<stdio.h>\n",
        "#include <limits.h>\n",
        "void main()\n",
        "{\n",
        "    int a=5,b=0;\n",
        "    if(a==b)\n",
        "    printf(\"yes\");\n",
        "    else\n",
        "    printf(\"no\");\n",
        "    printf(\"\\n%d\",a);\n",
        "}\n"
      ],
      "execution_count": 0,
      "outputs": []
    },
    {
      "cell_type": "code",
      "metadata": {
        "id": "v8iuy2-Xnp-B",
        "colab_type": "code",
        "colab": {}
      },
      "source": [
        "#include<stdio.h>\n",
        "#include <limits.h>\n",
        "void main()\n",
        "{\n",
        "    int a=5;\n",
        "    a*=6;\n",
        "    printf(\"\\n%d\",a);\n",
        "}\n"
      ],
      "execution_count": 0,
      "outputs": []
    },
    {
      "cell_type": "code",
      "metadata": {
        "id": "KcMYEt0UpwVw",
        "colab_type": "code",
        "colab": {}
      },
      "source": [
        "#include<stdio.h>\n",
        "#include <limits.h>\n",
        "void main()\n",
        "{\n",
        " int a=5,b;\n",
        "b=sizeof(a++);\n",
        "    printf(\"%d %d\",a,b);\n",
        "}\n"
      ],
      "execution_count": 0,
      "outputs": []
    },
    {
      "cell_type": "code",
      "metadata": {
        "id": "_PIab7AFnqGL",
        "colab_type": "code",
        "colab": {}
      },
      "source": [
        "#include<stdio.h>\n",
        "#include <limits.h>\n",
        "void main()\n",
        "{\n",
        " int a=5,b=6,c;\n",
        "c=a>b?a:b;\n",
        "    printf(\"%d\",c);\n",
        "}\n"
      ],
      "execution_count": 0,
      "outputs": []
    },
    {
      "cell_type": "code",
      "metadata": {
        "id": "JpAldW1CnqLc",
        "colab_type": "code",
        "colab": {}
      },
      "source": [
        "#include<stdio.h>\n",
        "#include <limits.h>\n",
        "void main()\n",
        "{\n",
        " int a=0,b=5,c;\n",
        "c=a?0:b;\n",
        "    printf(\"%d\",c);\n",
        "}\n"
      ],
      "execution_count": 0,
      "outputs": []
    },
    {
      "cell_type": "code",
      "metadata": {
        "id": "GmYT7Fy4nqCi",
        "colab_type": "code",
        "colab": {}
      },
      "source": [
        ""
      ],
      "execution_count": 0,
      "outputs": []
    }
  ]
}