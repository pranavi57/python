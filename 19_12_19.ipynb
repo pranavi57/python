{
  "nbformat": 4,
  "nbformat_minor": 0,
  "metadata": {
    "colab": {
      "name": "19-12-19.ipynb",
      "provenance": [],
      "collapsed_sections": []
    },
    "kernelspec": {
      "name": "python3",
      "display_name": "Python 3"
    }
  },
  "cells": [
    {
      "cell_type": "code",
      "metadata": {
        "id": "5FvaK4NfR5O7",
        "colab_type": "code",
        "colab": {}
      },
      "source": [
        "#include <stdio.h>\n",
        "void main()\n",
        "{\n",
        "float c;\n",
        "    c=20/200*200;\n",
        "    printf(\"%f\",c);\n",
        "}\n"
      ],
      "execution_count": 0,
      "outputs": []
    },
    {
      "cell_type": "code",
      "metadata": {
        "id": "P06yFix4VGwD",
        "colab_type": "code",
        "colab": {}
      },
      "source": [
        "#include <stdio.h>\n",
        "void main()\n",
        "{\n",
        "int c;\n",
        "    c=20.0/200*200;\n",
        "    printf(\"%f\",c);\n",
        "}\n"
      ],
      "execution_count": 0,
      "outputs": []
    },
    {
      "cell_type": "code",
      "metadata": {
        "id": "Zg8IKTPxVG2a",
        "colab_type": "code",
        "colab": {}
      },
      "source": [
        "#include <stdio.h>\n",
        "void main()\n",
        "{\n",
        "int c;\n",
        "    c=(float)20/200*200;\n",
        "    printf(\"%d\",c);\n",
        "}\n"
      ],
      "execution_count": 0,
      "outputs": []
    },
    {
      "cell_type": "code",
      "metadata": {
        "id": "9bKlB4TtZ53j",
        "colab_type": "code",
        "colab": {}
      },
      "source": [
        "void main()\n",
        "{\n",
        "    int n;\n",
        "    scanf(\"%d\",&n);\n",
        "if(n%2!=0&&n%3!=0&&n%5!=0&&n%7!=0)\n",
        "    printf(\"prime number\");\n",
        "else\n",
        "    printf(\"not\");\n",
        "}\n"
      ],
      "execution_count": 0,
      "outputs": []
    },
    {
      "cell_type": "code",
      "metadata": {
        "id": "6HhC-eRxZ6E3",
        "colab_type": "code",
        "colab": {}
      },
      "source": [
        "void main()\n",
        "{\n",
        "    int n;\n",
        "    scanf(\"%d\",&n);\n",
        "    if(n==2||n==3||n==5||n==7)\n",
        "    printf(\"prime number\");\n",
        "if(n%2!=0&&n%3!=0&&n%5!=0&&n%7!=0)\n",
        "    printf(\"prime number\");\n",
        "else\n",
        "    printf(\"not\");\n",
        "}\n",
        "#include<stdio.h>\n",
        "void main()\n",
        "{\n",
        "    int a,b;\n",
        "    char op;\n",
        "scanf(\"%d %d\",&a,&b);\n",
        "scanf(\" %c\",&op);\n",
        "switch(op)\n",
        "{\n",
        "    case'+':printf(\"%d\",a+b);\n",
        "    break;\n",
        "    case'-':printf(\"%d\",a-b);\n",
        "    break;\n",
        "    case'*':printf(\"%d\",a*b);\n",
        "    break;\n",
        "    case'/':printf(\"%d\",a/b);\n",
        "    break;\n",
        "    case'%':printf(\"%d\",a%b);\n",
        "    break;\n",
        "    default:printf(\"invalid input\");\n",
        "    break;\n",
        "}\n",
        "}"
      ],
      "execution_count": 0,
      "outputs": []
    },
    {
      "cell_type": "markdown",
      "metadata": {
        "id": "YpuxTZnUjGSE",
        "colab_type": "text"
      },
      "source": [
        "# loop control structures:\n",
        "- while\n",
        "- dowhile\n",
        "- for\n",
        "\n",
        "\n"
      ]
    },
    {
      "cell_type": "code",
      "metadata": {
        "id": "9OQjA52nZ6Xm",
        "colab_type": "code",
        "colab": {}
      },
      "source": [
        "#include<stdio.h>\n",
        "void main()\n",
        "{\n",
        "    int n,r,s=0;\n",
        "    scanf(\"%d\",&n);\n",
        "    while(n!=0)\n",
        "    {\n",
        "        r=n%10;\n",
        "        s=s%10+r;\n",
        "        n=n/10;\n",
        "    }\n",
        "    printf(\"%d\",s);\n",
        "}"
      ],
      "execution_count": 0,
      "outputs": []
    },
    {
      "cell_type": "code",
      "metadata": {
        "id": "o5yGcdwHVG5q",
        "colab_type": "code",
        "colab": {}
      },
      "source": [
        "#palindrome no:\n",
        "#include<stdio.h>\n",
        "void main()\n",
        "{\n",
        "    int t,n,r,s=0;\n",
        "    scanf(\"%d\",&n);\n",
        "    t=n;\n",
        "    while(t!=0)\n",
        "    {\n",
        "        r=t%10;\n",
        "        s=s*10+r;\n",
        "        t=t/10;\n",
        "    }\n",
        "    if(n==s)\n",
        "    printf(\"palindrome number\");\n",
        "    else\n",
        "    printf(\"not\");\n",
        "}"
      ],
      "execution_count": 0,
      "outputs": []
    },
    {
      "cell_type": "code",
      "metadata": {
        "id": "4dxV9wOAVG80",
        "colab_type": "code",
        "colab": {}
      },
      "source": [
        "#Armstrong no:\n",
        "#include<stdio.h>\n",
        "void main()\n",
        "{\n",
        "    int t,n,r,s=0;\n",
        "    scanf(\"%d\",&n);\n",
        "    t=n;\n",
        "    while(t!=0)\n",
        "    {\n",
        "        r=t%10;\n",
        "        s=s+r*r*r;\n",
        "        t=t/10;\n",
        "    }\n",
        "    if(n==s)\n",
        "    printf(\"armstrong number\");\n",
        "    else\n",
        "    printf(\"not\");\n",
        "}"
      ],
      "execution_count": 0,
      "outputs": []
    },
    {
      "cell_type": "code",
      "metadata": {
        "id": "1yWVxVC-ui-b",
        "colab_type": "code",
        "colab": {}
      },
      "source": [
        "#include<stdio.h>\n",
        "void main()\n",
        "{\n",
        "    int t,n,r,s,range;\n",
        "    scanf(\"%d\",&range);\n",
        "    for(n=0;n<=range;n++)\n",
        "    {\n",
        "    t=n;\n",
        "    s=0;\n",
        "    while(t!=0)\n",
        "    {\n",
        "        r=t%10;\n",
        "        s=s*10+r;\n",
        "        t=t/10;\n",
        "    }\n",
        "    if(n==s)\n",
        "    printf(\" %d\",n);\n",
        "}\n",
        "}"
      ],
      "execution_count": 0,
      "outputs": []
    },
    {
      "cell_type": "code",
      "metadata": {
        "id": "b4GzkOz3ujCT",
        "colab_type": "code",
        "colab": {}
      },
      "source": [
        "#include<stdio.h>\n",
        "void main()\n",
        "{\n",
        "    int t,n,r,s,range;\n",
        "    scanf(\"%d\",&range);\n",
        "    for(n=0;n<=range;n++)\n",
        "    {\n",
        "    t=n;\n",
        "    s=0;\n",
        "    while(t!=0)\n",
        "    {\n",
        "        r=t%10;\n",
        "        s=s*10+r;\n",
        "        t=t/10;\n",
        "    }\n",
        "    if(n==s)\n",
        "    printf(\" %d\",n);\n",
        "}\n",
        "}"
      ],
      "execution_count": 0,
      "outputs": []
    },
    {
      "cell_type": "code",
      "metadata": {
        "id": "EeYVGH9bujIF",
        "colab_type": "code",
        "colab": {}
      },
      "source": [
        ""
      ],
      "execution_count": 0,
      "outputs": []
    },
    {
      "cell_type": "code",
      "metadata": {
        "id": "qMui-Wm3ujMt",
        "colab_type": "code",
        "colab": {}
      },
      "source": [
        ""
      ],
      "execution_count": 0,
      "outputs": []
    },
    {
      "cell_type": "code",
      "metadata": {
        "id": "Vy6hxHx8ujO8",
        "colab_type": "code",
        "colab": {}
      },
      "source": [
        ""
      ],
      "execution_count": 0,
      "outputs": []
    },
    {
      "cell_type": "code",
      "metadata": {
        "id": "EPTYRgTqujLm",
        "colab_type": "code",
        "colab": {}
      },
      "source": [
        ""
      ],
      "execution_count": 0,
      "outputs": []
    },
    {
      "cell_type": "code",
      "metadata": {
        "id": "wfFQA6f2ujFH",
        "colab_type": "code",
        "colab": {}
      },
      "source": [
        ""
      ],
      "execution_count": 0,
      "outputs": []
    },
    {
      "cell_type": "code",
      "metadata": {
        "id": "H1PS0AeHVGzV",
        "colab_type": "code",
        "colab": {}
      },
      "source": [
        ""
      ],
      "execution_count": 0,
      "outputs": []
    }
  ]
}